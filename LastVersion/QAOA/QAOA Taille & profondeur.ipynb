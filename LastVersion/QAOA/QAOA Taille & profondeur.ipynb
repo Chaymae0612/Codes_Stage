{
 "cells": [
  {
   "cell_type": "markdown",
   "id": "5ecca60e",
   "metadata": {},
   "source": []
  },
  {
   "cell_type": "code",
   "execution_count": 132,
   "id": "8e1e4d5a",
   "metadata": {},
   "outputs": [],
   "source": [
    "from qiskit.quantum_info import Pauli, SparsePauliOp\n",
    "from itertools import combinations\n",
    "from qiskit import QuantumCircuit, transpile\n",
    "from qiskit_aer import Aer\n",
    "import numpy as np\n",
    "from scipy.optimize import minimize\n",
    "from functools import reduce\n",
    "from qiskit.visualization import plot_histogram\n",
    "import matplotlib.pyplot as plt\n"
   ]
  },
  {
   "cell_type": "code",
   "execution_count": 133,
   "id": "215a4601",
   "metadata": {},
   "outputs": [],
   "source": [
    "# exemples de valeurs \n",
    "\n",
    "q=2 #nombre de noeuds\n",
    "P_i   = [8, 2]         \n",
    "c_i   = [3,8]       # coût par noeud\n",
    "D_i   = [3,1]  "
   ]
  },
  {
   "cell_type": "code",
   "execution_count": 134,
   "id": "0cfa172f",
   "metadata": {},
   "outputs": [
    {
     "name": "stdout",
     "output_type": "stream",
     "text": [
      "nombre de qubits est:  6\n"
     ]
    }
   ],
   "source": [
    "# Génération des variables x(i,j) pour i correspond au ième noeud, j est le jème indicateur de g_i\n",
    "liste = list(range(q))\n",
    "\n",
    "\n",
    "x_vars = []\n",
    "for i in liste:\n",
    "    if P_i[i] > 0:\n",
    "        for s in range(int(np.ceil(np.log2(P_i[i]+1)))):\n",
    "            x_vars.append((i, s))\n",
    "    else:\n",
    "        x_vars.append((i, 0))\n",
    "\n",
    "\"\"\"c_vars = []\n",
    "for i in liste:\n",
    "    if P_i[i] > 0:\n",
    "        for s in range(int(np.ceil(np.log2(P_i[i])))):\n",
    "            c_vars.append((i, s))\n",
    "    else:\n",
    "        c_vars.append((i, 0))\"\"\"\n",
    "\n",
    "qubit_index = {f\"x_{i}_{j}\": idx for idx, (i,j) in enumerate(x_vars)}\n",
    "\"\"\"all = x_vars + c_vars \n",
    "qubit_index = {f\"x_{i}_{j}\": idx for idx, (i,j) in enumerate(x_vars)}\n",
    "offset = len(x_vars)\n",
    "for k, (i,m) in enumerate(c_vars):\n",
    "    qubit_index[f\"beta_{i}_{m}\"] = offset + k\"\"\"\n",
    "    \n",
    "\n",
    "def idx_x(i, j):\n",
    "    return qubit_index[f\"x_{i}_{j}\"]\n",
    "\n",
    "nqubit=len(x_vars)\n",
    "\"\"\"def idx_c(i,r):\n",
    "    return qubit_index[f\"c_{i}_{r}\"]\n",
    "nqubit=len(all)\"\"\"\n",
    "\n",
    "print(\"nombre de qubits est: \", nqubit)"
   ]
  },
  {
   "cell_type": "code",
   "execution_count": 135,
   "id": "680e5d0c",
   "metadata": {},
   "outputs": [],
   "source": [
    "terms = []\n",
    "lam =100000# pénalité\n",
    "D = np.sum(D_i)\n",
    "nqubit = len(x_vars)  # nombre total de qubits\n",
    "const = 0.0\n",
    "\n",
    "# Précalcul des valeurs 2^j pour chaque qubit\n",
    "powers = [2**j for (_, j) in x_vars]\n",
    "T = sum(powers)  # somme totale de toutes les valeurs 2^j\n",
    "\n",
    "\n",
    "for idx, ((i, j), pow_j) in enumerate(zip(x_vars, powers)):\n",
    "    coeff_linear = (c_i[i] * pow_j - 2 * lam * D * pow_j + lam * (pow_j**2)) / 2\n",
    "    \n",
    "    # Construction du terme Pauli\n",
    "    pauli_term = ['I'] * nqubit\n",
    "    pauli_term[idx] = 'Z'\n",
    "    terms.append((''.join(pauli_term), -coeff_linear))  # Inversion de signe\n",
    "    \n",
    "    # Mise à jour de la constante\n",
    "    const += coeff_linear\n",
    "\n",
    "\n",
    "\n",
    "for a, (i, j) in enumerate(x_vars):\n",
    "    pow_j = powers[a]\n",
    "    for b, (k, l) in enumerate(x_vars):\n",
    "        if b <= a:\n",
    "            continue\n",
    "            \n",
    "        pow_l = powers[b]\n",
    "        # Coefficient unique pour toutes les paires\n",
    "        coeff_quad = lam * pow_j * pow_l\n",
    "        \n",
    "        # Construction du terme Pauli\n",
    "        pauli_term = ['I'] * nqubit\n",
    "        pauli_term[a] = 'Z'\n",
    "        pauli_term[b] = 'Z'\n",
    "        terms.append((''.join(pauli_term), coeff_quad))\n",
    "        \n",
    "        # Mise à jour de la constante\n",
    "        const += coeff_quad\n",
    "\n",
    "# Ajout des termes manquants (d'après le développement mathématique)\n",
    "const += lam * (D**2 - D * T + 0.25 * T**2)\n",
    "\n",
    "# Ajout du terme constant global\n",
    "terms.append(('I' * nqubit, const))"
   ]
  },
  {
   "cell_type": "code",
   "execution_count": 136,
   "id": "9ada15df",
   "metadata": {},
   "outputs": [],
   "source": [
    "H_c = SparsePauliOp.from_list(terms)"
   ]
  },
  {
   "cell_type": "code",
   "execution_count": 137,
   "id": "7007c87b",
   "metadata": {},
   "outputs": [
    {
     "name": "stdout",
     "output_type": "stream",
     "text": [
      "SparsePauliOp(['XIIIII', 'IXIIII', 'IIXIII', 'IIIXII', 'IIIIXI', 'IIIIIX'],\n",
      "              coeffs=[1.+0.j, 1.+0.j, 1.+0.j, 1.+0.j, 1.+0.j, 1.+0.j])\n"
     ]
    }
   ],
   "source": [
    "from qiskit.quantum_info import SparsePauliOp\n",
    "\n",
    "H_M = SparsePauliOp.from_list([\n",
    "    ('I'*i + 'X' + 'I'*(nqubit-i-1), 1.0)\n",
    "    for i in range(nqubit)\n",
    "])\n",
    "\n",
    "print(H_M)"
   ]
  },
  {
   "cell_type": "code",
   "execution_count": 138,
   "id": "c4bc2e09",
   "metadata": {},
   "outputs": [],
   "source": [
    "from qiskit.circuit.library import PauliEvolutionGate\n",
    "def U_C(gamma, H):\n",
    "    gate = PauliEvolutionGate(H, time=gamma)\n",
    "    return gate.definition  \n",
    "\n",
    "def U_M(beta, H):\n",
    "    gate = PauliEvolutionGate(H, time=beta)\n",
    "    return gate.definition"
   ]
  },
  {
   "cell_type": "code",
   "execution_count": 139,
   "id": "ecfcdc35",
   "metadata": {},
   "outputs": [],
   "source": [
    "from qiskit import QuantumCircuit\n",
    "\n",
    "def build_qaoa_circuit(n, p, gammas, betas, cost_h, mixer_h):\n",
    "    qc = QuantumCircuit(n)  \n",
    "    qc.h(range(n))          \n",
    "    \n",
    "    for layer in range(p):\n",
    "        qc.append(U_C(float(gammas[layer]), cost_h), range(n))\n",
    "        qc.append(U_M(float(betas[layer]), mixer_h), range(n))\n",
    "    \n",
    "    return qc "
   ]
  },
  {
   "cell_type": "code",
   "execution_count": 140,
   "id": "3b982942",
   "metadata": {},
   "outputs": [],
   "source": [
    "from qiskit import transpile\n",
    "from qiskit_aer import Aer\n",
    "import numpy as np\n",
    "from scipy.optimize import minimize\n",
    "cost_h=H_c\n",
    "mixer_h=H_M\n",
    "\n",
    "backend = Aer.get_backend('aer_simulator')\n",
    "p=2\n",
    "def qaoa_expectation(params):\n",
    "    gammas = params[:p]\n",
    "    betas = params[p:]\n",
    "    \n",
    "    qc = build_qaoa_circuit(nqubit, p, gammas, betas, H_c, H_M)\n",
    "    qc.save_statevector()\n",
    "    \n",
    "    qc_transpiled = transpile(qc, backend)\n",
    "    result = backend.run(qc_transpiled).result()\n",
    "    \n",
    "    sv = result.data(0)['statevector']\n",
    "    expval = sv.expectation_value(H_c)\n",
    "    return np.real(expval)  "
   ]
  },
  {
   "cell_type": "code",
   "execution_count": null,
   "id": "700367aa",
   "metadata": {},
   "outputs": [],
   "source": [
    "%matplotlib inline\n",
    "import time\n",
    "import numpy as np\n",
    "from collections import Counter\n",
    "from qiskit import transpile\n",
    "from qiskit_aer import AerSimulator\n",
    "from qiskit.visualization import plot_histogram\n",
    "from scipy.optimize import minimize\n",
    "import matplotlib.pyplot as plt\n",
    "\n",
    "# ============\n",
    "# Paramètres\n",
    "# ============\n",
    "target_bitstring = \"001000\"    # combinaison recherchée\n",
    "p_max = 100               # profondeur maximale\n",
    "tolerance = 1e-6             # tolérance optimisation\n",
    "\n",
    "# ============\n",
    "# Fonctions nécessaires (à définir si pas déjà faites)\n",
    "# ============\n",
    "# -> qaoa_expectation(params)  : fonction de coût\n",
    "# -> build_qaoa_circuit(nqubit, p, gammas, betas, cost_h, mixer_h)\n",
    "\n",
    "# ============\n",
    "# Boucle adaptative sur p\n",
    "# ============\n",
    "start = time.time()\n",
    "optimal_depth = None\n",
    "found = False\n",
    "\n",
    "for p in range(1, p_max+1):\n",
    "\n",
    "    # Initialisation des paramètres\n",
    "    gammas = np.linspace(0, np.pi, p) \n",
    "    betas = np.linspace(0, np.pi/2, p)\n",
    "    params = np.concatenate([gammas, betas])\n",
    "\n",
    "    # Optimisation QAOA\n",
    "    result = minimize(qaoa_expectation, params, method='COBYLA', tol=tolerance)\n",
    "\n",
    "    gammas_opt = result.x[:p]\n",
    "    betas_opt = result.x[p:]\n",
    "\n",
    "    # Construction du circuit\n",
    "    qc = build_qaoa_circuit(nqubit, p, gammas_opt, betas_opt, cost_h, mixer_h)\n",
    "    qc.measure_all()\n",
    "    qc_transpiled = transpile(qc, AerSimulator())\n",
    "\n",
    "    # Simulation\n",
    "    job = AerSimulator().run(qc_transpiled, shots=2048)\n",
    "    result_new = job.result()\n",
    "    counts = result_new.get_counts()\n",
    "\n",
    "    # Vérifier si la cible est le bitstring le plus probable\n",
    "    top_bitstring, top_freq = Counter(counts).most_common(1)[0]\n",
    "    print(f\"Profondeur {p} → Top résultat = {top_bitstring} ({top_freq} occurrences)\")\n",
    "\n",
    "    if top_bitstring == target_bitstring:\n",
    "        optimal_depth = p\n",
    "        found = True\n",
    "        break\n",
    "\n",
    "end = time.time()\n",
    "\n",
    "# ============\n",
    "# Résultats finaux\n",
    "# ============\n",
    "if found:\n",
    "    print(f\"\\n✅ Configuration {target_bitstring} trouvée à la profondeur optimale p = {optimal_depth}\")\n",
    "else:\n",
    "    print(f\"\\n❌ Configuration {target_bitstring} NON trouvée jusqu’à p = {p_max}\")\n",
    "\n",
    "print(\"Temps d'exécution total :\", round(end - start, 2), \"secondes\")\n"
   ]
  },
  {
   "cell_type": "code",
   "execution_count": null,
   "id": "e2e50ae3",
   "metadata": {},
   "outputs": [
    {
     "data": {
      "image/png": "[encoded data removed]",
      "text/plain": [
       "<Figure size 800x500 with 1 Axes>"
      ]
     },
     "metadata": {},
     "output_type": "display_data"
    }
   ],
   "source": [
    "import matplotlib.pyplot as plt\n",
    "\n",
    "# Données fournies\n",
    "n_values = [3, 4, 5, 6, 7, 8, 9, 10, 11, 12, 13, 14, 15]\n",
    "p_values = [1, 1, 15, 20, 56, 108, 191, 300, 435, 596, 787, 996, 1235]\n",
    "\n",
    "# Tracé\n",
    "plt.figure(figsize=(8,5))\n",
    "plt.plot(n_values, p_values, marker=\"o\", linestyle=\"-\", label=\"p optimal observé\")\n",
    "\n",
    "plt.title(\"Évolution de la profondeur optimale p de QAOA\")\n",
    "plt.xlabel(\"Taille du problème n (nombre de qubits)\")\n",
    "plt.ylabel(\"Profondeur optimale p\")\n",
    "plt.grid(True, linestyle=\"--\", alpha=0.6)\n",
    "plt.legend()\n",
    "plt.tight_layout()\n",
    "plt.show()"
   ]
  }
 ],
 "metadata": {
  "kernelspec": {
   "display_name": "qiskit-env",
   "language": "python",
   "name": "python3"
  },
  "language_info": {
   "codemirror_mode": {
    "name": "ipython",
    "version": 3
   },
   "file_extension": ".py",
   "mimetype": "text/x-python",
   "name": "python",
   "nbconvert_exporter": "python",
   "pygments_lexer": "ipython3",
   "version": "3.10.18"
  }
 },
 "nbformat": 4,
 "nbformat_minor": 5
}
