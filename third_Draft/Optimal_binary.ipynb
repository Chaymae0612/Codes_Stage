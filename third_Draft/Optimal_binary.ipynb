{
 "cells": [
  {
   "cell_type": "code",
   "execution_count": 1,
   "id": "c7f93774",
   "metadata": {},
   "outputs": [
    {
     "name": "stdout",
     "output_type": "stream",
     "text": [
      "['']\n",
      "['0', '1']\n",
      "['0', '10', '11']\n",
      "['00', '01', '10', '110', '111']\n",
      "['00', '01', '100', '101', '110', '111']\n"
     ]
    }
   ],
   "source": [
    "def optimal_binary(P_i):\n",
    "    n = P_i + 1  # Nombre de nombres à coder (de 0 à P_i inclus)\n",
    "    if n == 1:\n",
    "        return [\"\"]  # Cas particulier: seul le nombre 0 existe\n",
    "    \n",
    "    # Calcul de k (nombre minimal de bits tel que 2^k >= n)\n",
    "    k = 0\n",
    "    while (1 << k) < n:\n",
    "        k += 1\n",
    "    \n",
    "    m = (1 << k) - n  # Nombre de valeurs à coder sur (k-1) bits\n",
    "    codes = {}  # Dictionnaire pour stocker les codes\n",
    "    \n",
    "    # Première partie: coder les m premiers nombres (0 à m-1) sur (k-1) bits\n",
    "    for i in range(0, m):\n",
    "        # Conversion binaire et remplissage à gauche avec des zéros pour avoir (k-1) bits\n",
    "        codes[i] = bin(i)[2:].zfill(k - 1)\n",
    "    \n",
    "    # Deuxième partie: coder les nombres restants (m à n-1) sur k bits\n",
    "    for i in range(m, n):\n",
    "        j = i - m\n",
    "        # Calcul de la valeur à encoder: 2*m + j\n",
    "        val = 2 * m + j\n",
    "        # Conversion binaire et remplissage à gauche avec des zéros pour avoir k bits\n",
    "        codes[i] = bin(val)[2:].zfill(k)\n",
    "    \n",
    "    # Construction de la liste des codes dans l'ordre de 0 à P_i\n",
    "    return [codes[i] for i in range(n)]\n",
    "\n",
    "# Exemples d'utilisation\n",
    "if __name__ == \"__main__\":\n",
    "    print(optimal_binary(0))   # [\"\"]\n",
    "    print(optimal_binary(1))   # ['0', '1']\n",
    "    print(optimal_binary(2))   # ['0', '10', '11']\n",
    "    print(optimal_binary(4))   # ['00', '01', '10', '110', '111']\n",
    "    print(optimal_binary(5))   # ['00', '01', '10', '110', '111'] pour P_i=5? "
   ]
  }
 ],
 "metadata": {
  "kernelspec": {
   "display_name": "qiskit-env",
   "language": "python",
   "name": "python3"
  },
  "language_info": {
   "codemirror_mode": {
    "name": "ipython",
    "version": 3
   },
   "file_extension": ".py",
   "mimetype": "text/x-python",
   "name": "python",
   "nbconvert_exporter": "python",
   "pygments_lexer": "ipython3",
   "version": "3.10.18"
  }
 },
 "nbformat": 4,
 "nbformat_minor": 5
}
