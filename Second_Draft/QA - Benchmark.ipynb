{
 "cells": [
  {
   "cell_type": "markdown",
   "id": "51c34fad",
   "metadata": {},
   "source": [
    "# Quantum annealing - Benchmark: "
   ]
  },
  {
   "cell_type": "markdown",
   "id": "2d68f1ee",
   "metadata": {},
   "source": [
    "Les machines de quantum annealing (comme celles de D-Wave) prennent en entrée un problème sous forme QUBO. Pour cette raison, \n",
    "cherchons d'abord à écrire notre hamiltonien sous forme QUBU. \\\n",
    "\n",
    "Selon le résultat établi en [\\ref{Equation: particulier}], on a en utilisant les variables binaires:\n",
    "\n",
    "$H_C=\\sum_{i,k}(c_i+\\lambda-2\\lambda D)x_{i,k}+\\lambda \\sum_{(i,k)\\neq (j,l)} x_{i,k} x_{j,l}+\\lambda D^2$\n",
    "\n",
    "Posons: $a_{i,k}=c_i+2\\lambda-2\\lambda D$\n",
    " et $b_{(i,k),(j,l)}=\\lambda$\n",
    "\n",
    "Soit: $H_{QUBO}=\\sum_{i,k}a_{i,k}x_{i,k}+\\sum_{(i,k)\\neq (j,l)} b_{(i,k),(j,l)}x_{i,k}x_{j,l}+ cte = x^TQx$"
   ]
  },
  {
   "cell_type": "code",
   "execution_count": 1,
   "id": "6314fb5d",
   "metadata": {},
   "outputs": [],
   "source": [
    "import numpy as np\n",
    "\n",
    "# Les valeurs / exemples\n",
    "\n",
    "\"\"\"c_i   = [10,8]       # coût linéaire\n",
    "D_i   = [30,20]        # demande par noeud\"\"\"\n",
    "\n",
    "c_i   = [10,8,30 ]      # coût linéaire\n",
    "D_i   = [30,20, 27]\n",
    "lam=100"
   ]
  },
  {
   "cell_type": "code",
   "execution_count": 16,
   "id": "cbae5bfa",
   "metadata": {},
   "outputs": [],
   "source": [
    "# Définition de Q \n",
    "# Q= {(0,0): c_i[0]+2*lam-2*lam*D_i[0], (0,1): lam, (1,1): c_i[1]+2*lam-2*lam*D_i[1]}"
   ]
  },
  {
   "cell_type": "code",
   "execution_count": 2,
   "id": "f73ea851",
   "metadata": {},
   "outputs": [],
   "source": [
    "def Q(c_i, D_i, lam):\n",
    "    Q={}\n",
    "    q=len(c_i)\n",
    "    D= np.sum(D_i)\n",
    "\n",
    "    for i in range(q):\n",
    "        for j in range(i,q): # Pour éviter les doublons \n",
    "            if(i==j):\n",
    "                Q[(i,j)]=c_i[i]+2*lam-2*lam*D\n",
    "            elif((i,j) not in Q):\n",
    "                Q[(i,j)]=lam\n",
    "                \n",
    "    return Q"
   ]
  },
  {
   "cell_type": "code",
   "execution_count": 3,
   "id": "439dc871",
   "metadata": {},
   "outputs": [
    {
     "name": "stdout",
     "output_type": "stream",
     "text": [
      "{(0, 0): np.int64(-15190), (0, 1): 100, (0, 2): 100, (1, 1): np.int64(-15192), (1, 2): 100, (2, 2): np.int64(-15170)}\n"
     ]
    }
   ],
   "source": [
    "print(Q(c_i, D_i, lam))"
   ]
  },
  {
   "cell_type": "code",
   "execution_count": 4,
   "id": "82e3270e",
   "metadata": {},
   "outputs": [
    {
     "name": "stdout",
     "output_type": "stream",
     "text": [
      "Meilleure solution (simulateur) binaire : {0: np.int8(1), 1: np.int8(1), 2: np.int8(1)}\n",
      "Energie correspondante : 45252.0\n"
     ]
    }
   ],
   "source": [
    "from dwave.samplers import SimulatedAnnealingSampler\n",
    "import dimod \n",
    "\n",
    "Q=Q(c_i, D_i, lam)\n",
    "sampler = SimulatedAnnealingSampler()\n",
    "\n",
    "sampleset = sampler.sample_qubo(Q, num_reads=100) # Résolution de QUBO\n",
    "\n",
    "best_sample = sampleset.first.sample # J'affiche les résultats (c'est un dict où chq var binaire xi est associée à 0 ou 1)\n",
    "best_energy = sampleset.first.energy\n",
    "\n",
    "print(\"Meilleure solution (simulateur) binaire :\", best_sample)\n",
    "print(\"Energie correspondante :\", - best_energy)\n"
   ]
  },
  {
   "cell_type": "markdown",
   "id": "762881af",
   "metadata": {},
   "source": [
    "Cela montre bien qu'on trouve un résultat maximisant notre solution optimale. "
   ]
  }
 ],
 "metadata": {
  "kernelspec": {
   "display_name": "qiskit-env",
   "language": "python",
   "name": "python3"
  },
  "language_info": {
   "codemirror_mode": {
    "name": "ipython",
    "version": 3
   },
   "file_extension": ".py",
   "mimetype": "text/x-python",
   "name": "python",
   "nbconvert_exporter": "python",
   "pygments_lexer": "ipython3",
   "version": "3.10.18"
  }
 },
 "nbformat": 4,
 "nbformat_minor": 5
}
